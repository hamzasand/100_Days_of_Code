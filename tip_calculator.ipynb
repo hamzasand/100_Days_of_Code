{
 "cells": [
  {
   "cell_type": "code",
   "execution_count": null,
   "id": "2d38ba35",
   "metadata": {},
   "outputs": [
    {
     "name": "stdout",
     "output_type": "stream",
     "text": [
      "Welcome to tip calculator!\n",
      "Each person should pay: 35.29\n"
     ]
    }
   ],
   "source": [
    "print(\"Welcome to tip calculator!\")\n",
    "total_bill = float(input(\"Enter your total bill? $\"))\n",
    "tip_by_client = int(input(\"How much tip would you like to give? 10, 12 or 15\"))\n",
    "split = int(input(\"How many people split the bill\"))\n",
    "tip_calculation = (tip_by_client / 100*total_bill+total_bill )/split\n",
    "\n",
    "final_amount = round(tip_calculation, 2)\n",
    "print(f\"Each person should pay: {final_amount}\")"
   ]
  },
  {
   "cell_type": "code",
   "execution_count": null,
   "id": "5ced4380",
   "metadata": {},
   "outputs": [],
   "source": []
  }
 ],
 "metadata": {
  "kernelspec": {
   "display_name": "Python 3",
   "language": "python",
   "name": "python3"
  },
  "language_info": {
   "codemirror_mode": {
    "name": "ipython",
    "version": 3
   },
   "file_extension": ".py",
   "mimetype": "text/x-python",
   "name": "python",
   "nbconvert_exporter": "python",
   "pygments_lexer": "ipython3",
   "version": "3.14.0"
  }
 },
 "nbformat": 4,
 "nbformat_minor": 5
}
