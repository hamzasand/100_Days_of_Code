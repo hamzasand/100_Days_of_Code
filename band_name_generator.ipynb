{
 "cells": [
  {
   "cell_type": "code",
   "execution_count": 10,
   "id": "9c2797dc",
   "metadata": {},
   "outputs": [
    {
     "name": "stdout",
     "output_type": "stream",
     "text": [
      "Welcome to Band Name Generator!\n",
      "Your band name could be **fsd shero**\n"
     ]
    }
   ],
   "source": [
    "# Band Name Generator\n",
    "print(\"Welcome to Band Name Generator!\")\n",
    "city_name = input(\"Whats the City name where you Grow up?\")\n",
    "pet_name = input(\"Whats your Pets name?\")\n",
    "band_name = city_name + \" \" + pet_name\n",
    "print(f\"Your band name could be **{band_name}**\")"
   ]
  },
  {
   "cell_type": "code",
   "execution_count": null,
   "id": "99b7a85f",
   "metadata": {},
   "outputs": [],
   "source": []
  }
 ],
 "metadata": {
  "kernelspec": {
   "display_name": "Python 3",
   "language": "python",
   "name": "python3"
  },
  "language_info": {
   "codemirror_mode": {
    "name": "ipython",
    "version": 3
   },
   "file_extension": ".py",
   "mimetype": "text/x-python",
   "name": "python",
   "nbconvert_exporter": "python",
   "pygments_lexer": "ipython3",
   "version": "3.14.0"
  }
 },
 "nbformat": 4,
 "nbformat_minor": 5
}
